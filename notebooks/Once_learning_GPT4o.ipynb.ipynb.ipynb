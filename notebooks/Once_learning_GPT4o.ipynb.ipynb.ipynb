{
  "nbformat": 4,
  "nbformat_minor": 0,
  "metadata": {
    "colab": {
      "provenance": []
    },
    "kernelspec": {
      "name": "python3",
      "display_name": "Python 3"
    },
    "language_info": {
      "name": "python"
    }
  },
  "cells": [
    {
      "cell_type": "markdown",
      "source": [
        "### Once Learning document pattern with GPT 4 turbo\n",
        "---"
      ],
      "metadata": {
        "id": "PAP91HkDDBkg"
      }
    },
    {
      "cell_type": "code",
      "execution_count": null,
      "metadata": {
        "colab": {
          "base_uri": "https://localhost:8080/"
        },
        "id": "4Phk6aMauRY0",
        "outputId": "a08a9a0e-8040-45c2-dd99-55dbfde29755",
        "collapsed": true
      },
      "outputs": [
        {
          "output_type": "execute_result",
          "data": {
            "text/plain": [
              "['Collecting openai',\n",
              " '  Downloading openai-1.37.1-py3-none-any.whl.metadata (22 kB)',\n",
              " 'Requirement already satisfied: anyio<5,>=3.5.0 in /usr/local/lib/python3.10/dist-packages (from openai) (3.7.1)',\n",
              " 'Requirement already satisfied: distro<2,>=1.7.0 in /usr/lib/python3/dist-packages (from openai) (1.7.0)',\n",
              " 'Collecting httpx<1,>=0.23.0 (from openai)',\n",
              " '  Downloading httpx-0.27.0-py3-none-any.whl.metadata (7.2 kB)',\n",
              " 'Requirement already satisfied: pydantic<3,>=1.9.0 in /usr/local/lib/python3.10/dist-packages (from openai) (2.8.2)',\n",
              " 'Requirement already satisfied: sniffio in /usr/local/lib/python3.10/dist-packages (from openai) (1.3.1)',\n",
              " 'Requirement already satisfied: tqdm>4 in /usr/local/lib/python3.10/dist-packages (from openai) (4.66.4)',\n",
              " 'Requirement already satisfied: typing-extensions<5,>=4.7 in /usr/local/lib/python3.10/dist-packages (from openai) (4.12.2)',\n",
              " 'Requirement already satisfied: idna>=2.8 in /usr/local/lib/python3.10/dist-packages (from anyio<5,>=3.5.0->openai) (3.7)',\n",
              " 'Requirement already satisfied: exceptiongroup in /usr/local/lib/python3.10/dist-packages (from anyio<5,>=3.5.0->openai) (1.2.2)',\n",
              " 'Requirement already satisfied: certifi in /usr/local/lib/python3.10/dist-packages (from httpx<1,>=0.23.0->openai) (2024.7.4)',\n",
              " 'Collecting httpcore==1.* (from httpx<1,>=0.23.0->openai)',\n",
              " '  Downloading httpcore-1.0.5-py3-none-any.whl.metadata (20 kB)',\n",
              " 'Collecting h11<0.15,>=0.13 (from httpcore==1.*->httpx<1,>=0.23.0->openai)',\n",
              " '  Downloading h11-0.14.0-py3-none-any.whl.metadata (8.2 kB)',\n",
              " 'Requirement already satisfied: annotated-types>=0.4.0 in /usr/local/lib/python3.10/dist-packages (from pydantic<3,>=1.9.0->openai) (0.7.0)',\n",
              " 'Requirement already satisfied: pydantic-core==2.20.1 in /usr/local/lib/python3.10/dist-packages (from pydantic<3,>=1.9.0->openai) (2.20.1)',\n",
              " 'Downloading openai-1.37.1-py3-none-any.whl (337 kB)',\n",
              " '\\x1b[?25l   \\x1b[90m━━━━━━━━━━━━━━━━━━━━━━━━━━━━━━━━━━━━━━━━\\x1b[0m \\x1b[32m0.0/337.0 kB\\x1b[0m \\x1b[31m?\\x1b[0m eta \\x1b[36m-:--:--\\x1b[0m',\n",
              " '\\x1b[2K   \\x1b[90m━━━━━━━━━━━━━━━━━━━━━━━━━━━━━━━━━━━━━━━━\\x1b[0m \\x1b[32m337.0/337.0 kB\\x1b[0m \\x1b[31m29.6 MB/s\\x1b[0m eta \\x1b[36m0:00:00\\x1b[0m',\n",
              " '\\x1b[?25hDownloading httpx-0.27.0-py3-none-any.whl (75 kB)',\n",
              " '\\x1b[?25l   \\x1b[90m━━━━━━━━━━━━━━━━━━━━━━━━━━━━━━━━━━━━━━━━\\x1b[0m \\x1b[32m0.0/75.6 kB\\x1b[0m \\x1b[31m?\\x1b[0m eta \\x1b[36m-:--:--\\x1b[0m',\n",
              " '\\x1b[2K   \\x1b[90m━━━━━━━━━━━━━━━━━━━━━━━━━━━━━━━━━━━━━━━━\\x1b[0m \\x1b[32m75.6/75.6 kB\\x1b[0m \\x1b[31m8.9 MB/s\\x1b[0m eta \\x1b[36m0:00:00\\x1b[0m',\n",
              " '\\x1b[?25hDownloading httpcore-1.0.5-py3-none-any.whl (77 kB)',\n",
              " '\\x1b[?25l   \\x1b[90m━━━━━━━━━━━━━━━━━━━━━━━━━━━━━━━━━━━━━━━━\\x1b[0m \\x1b[32m0.0/77.9 kB\\x1b[0m \\x1b[31m?\\x1b[0m eta \\x1b[36m-:--:--\\x1b[0m',\n",
              " '\\x1b[2K   \\x1b[90m━━━━━━━━━━━━━━━━━━━━━━━━━━━━━━━━━━━━━━━━\\x1b[0m \\x1b[32m77.9/77.9 kB\\x1b[0m \\x1b[31m8.6 MB/s\\x1b[0m eta \\x1b[36m0:00:00\\x1b[0m',\n",
              " '\\x1b[?25hDownloading h11-0.14.0-py3-none-any.whl (58 kB)',\n",
              " '\\x1b[?25l   \\x1b[90m━━━━━━━━━━━━━━━━━━━━━━━━━━━━━━━━━━━━━━━━\\x1b[0m \\x1b[32m0.0/58.3 kB\\x1b[0m \\x1b[31m?\\x1b[0m eta \\x1b[36m-:--:--\\x1b[0m',\n",
              " '\\x1b[2K   \\x1b[90m━━━━━━━━━━━━━━━━━━━━━━━━━━━━━━━━━━━━━━━━\\x1b[0m \\x1b[32m58.3/58.3 kB\\x1b[0m \\x1b[31m6.8 MB/s\\x1b[0m eta \\x1b[36m0:00:00\\x1b[0m',\n",
              " '\\x1b[?25hInstalling collected packages: h11, httpcore, httpx, openai',\n",
              " 'Successfully installed h11-0.14.0 httpcore-1.0.5 httpx-0.27.0 openai-1.37.1']"
            ]
          },
          "metadata": {},
          "execution_count": 1
        }
      ],
      "source": [
        "!pip install openai"
      ]
    },
    {
      "cell_type": "code",
      "source": [
        "import os\n",
        "import openai\n",
        "from google.colab import userdata\n",
        "\n",
        "# Defina sua chave da API\n",
        "\n",
        "# Acessar a chave da API armazenada como variável de ambiente\n",
        "chave = userdata.get('OpenAI')"
      ],
      "metadata": {
        "id": "W7sgyQgFuhBT"
      },
      "execution_count": null,
      "outputs": []
    },
    {
      "cell_type": "code",
      "source": [
        "import base64\n",
        "# Function to encode the image\n",
        "def encode_image(image_path):\n",
        "    with open(image_path, \"rb\") as image_file:\n",
        "        return base64.b64encode(image_file.read()).decode('utf-8')"
      ],
      "metadata": {
        "id": "HnjtcHdi-tBA"
      },
      "execution_count": null,
      "outputs": []
    },
    {
      "cell_type": "code",
      "source": [
        "client = OpenAI(\n",
        "    # This is the default and can be omitted\n",
        "    api_key=chave,\n",
        ")"
      ],
      "metadata": {
        "id": "rqk6HrHOfUWO"
      },
      "execution_count": null,
      "outputs": []
    },
    {
      "cell_type": "code",
      "source": [
        "def classificar_documento(path):\n",
        "\n",
        "    # Definir o prompt\n",
        "    # Path to your image\n",
        "    image_path = path\n",
        "\n",
        "    # Getting the base64 string\n",
        "    image_prompt = encode_image('/content/drive/MyDrive/Once_Learning_Docs/padrao/11008400.jpg')\n",
        "    base64_image = encode_image(image_path)\n",
        "\n",
        "    # Enviar o prompt para a API\n",
        "    response = client.chat.completions.create(\n",
        "        model=\"gpt-4-turbo\",\n",
        "        messages=[\n",
        "            {\"role\": \"system\", \"content\": [\n",
        "                {\n",
        "                 \"type\": \"text\",\n",
        "                 \"text\": '''\n",
        "                            Você irá analisar documentos de orçamentos de uma empresa. Você precisa detectar documentos fora do padrão.\n",
        "\n",
        "                            O documento pode estar fora do padrão por falta de informação. Indícios de edição. Documento sobre outras situações que possam ser identificadas.\n",
        "\n",
        "                            O documento anexo é um documento dentro do padrão. Você irá receber documentos, e deve retornar SOMENTE um resultado em formato de objeto json com os atributos \"status\" e \"justificativa\".\n",
        "\n",
        "                            sendo o status como padrão ou fora do padrão, e a justificativa indicando o tipo de não conformidade.\n",
        "\n",
        "                          '''\n",
        "                 },\n",
        "                                {\n",
        "                    \"type\": \"image_url\",\n",
        "                    \"image_url\": {\n",
        "                        \"url\": f\"data:image/jpeg;base64,{image_prompt}\"\n",
        "                    }\n",
        "                }\n",
        "                ]\n",
        "             },\n",
        "            {\"role\": \"user\", \"content\": [\n",
        "                {\n",
        "                    \"type\": \"image_url\",\n",
        "                    \"image_url\": {\n",
        "                        \"url\": f\"data:image/jpeg;base64,{base64_image}\"\n",
        "                    }\n",
        "                }\n",
        "                ]\n",
        "             }\n",
        "        ]\n",
        "    )\n",
        "\n",
        "    # Obter a resposta gerada\n",
        "    classificacao = response.choices[0].message.content\n",
        "\n",
        "    return classificacao"
      ],
      "metadata": {
        "id": "5HZSZsZy9Gjs"
      },
      "execution_count": null,
      "outputs": []
    },
    {
      "cell_type": "code",
      "source": [
        "resultado = classificar_documento('/content/drive/MyDrive/Once_Learning_Docs/editada/11008400.jpg')"
      ],
      "metadata": {
        "id": "gC66cFaJALGf"
      },
      "execution_count": null,
      "outputs": []
    },
    {
      "cell_type": "code",
      "source": [
        "print(resultado)"
      ],
      "metadata": {
        "colab": {
          "base_uri": "https://localhost:8080/"
        },
        "id": "wQZwPwTCCSuy",
        "outputId": "d152985f-1ea5-4f11-c8e4-1e483dd445ad"
      },
      "execution_count": null,
      "outputs": [
        {
          "output_type": "stream",
          "name": "stdout",
          "text": [
            "```json\n",
            "{\n",
            "  \"status\": \"dentro do padrão\",\n",
            "  \"justificativa\": \"O documento apresenta todas as informações essenciais claramente, incluindo o cabeçalho com o logo da empresa, o endereço, detalhes do valor pago, para quem foi pago, a data, e a assinatura relevante. Não há indícios evidentes de edição ou falta de informação.\"\n",
            "}\n",
            "```\n"
          ]
        }
      ]
    }
  ]
}