{
  "cells": [
    {
      "cell_type": "code",
      "execution_count": 1,
      "metadata": {
        "collapsed": true,
        "id": "JrY5UUX0NZue"
      },
      "outputs": [],
      "source": [
        "%%capture\n",
        "!pip install openai"
      ]
    },
    {
      "cell_type": "code",
      "execution_count": 10,
      "metadata": {
        "id": "wtWkrZ5BSrke"
      },
      "outputs": [],
      "source": [
        "import os\n",
        "import openai\n",
        "from google.colab import userdata\n",
        "\n",
        "# Get the token from the environment variable\n",
        "chave = userdata.get('OPENAIKEY') # Substitua pela sua chave de API"
      ]
    },
    {
      "cell_type": "code",
      "source": [
        "from openai import OpenAI\n",
        "import os\n",
        "\n",
        "client = OpenAI(\n",
        "    # This is the default and can be omitted\n",
        "    api_key=chave,\n",
        ")\n",
        "\n",
        "models = client.models.list()\n",
        "for model in models.data:\n",
        "    print(model.id)"
      ],
      "metadata": {
        "colab": {
          "base_uri": "https://localhost:8080/"
        },
        "id": "4O_GJ2Petl6L",
        "outputId": "1e5d2b37-f65c-426a-f078-db42c0ae9f68"
      },
      "execution_count": 16,
      "outputs": [
        {
          "output_type": "stream",
          "name": "stdout",
          "text": [
            "gpt-4-turbo\n",
            "gpt-4-turbo-2024-04-09\n",
            "tts-1\n",
            "tts-1-1106\n",
            "chatgpt-4o-latest\n",
            "dall-e-2\n",
            "whisper-1\n",
            "gpt-4-turbo-preview\n",
            "gpt-4o-audio-preview\n",
            "gpt-3.5-turbo-instruct\n",
            "gpt-4o-audio-preview-2024-10-01\n",
            "gpt-4-0125-preview\n",
            "gpt-3.5-turbo-0125\n",
            "gpt-3.5-turbo\n",
            "babbage-002\n",
            "davinci-002\n",
            "gpt-4o-realtime-preview-2024-10-01\n",
            "dall-e-3\n",
            "gpt-4o-realtime-preview\n",
            "gpt-4o-mini\n",
            "gpt-4o-2024-05-13\n",
            "gpt-4o-mini-2024-07-18\n",
            "gpt-4o-2024-08-06\n",
            "gpt-4o\n",
            "tts-1-hd\n",
            "tts-1-hd-1106\n",
            "gpt-4-1106-preview\n",
            "text-embedding-ada-002\n",
            "gpt-3.5-turbo-16k\n",
            "text-embedding-3-small\n",
            "text-embedding-3-large\n",
            "gpt-3.5-turbo-1106\n",
            "gpt-4-0613\n",
            "gpt-4\n",
            "gpt-3.5-turbo-instruct-0914\n"
          ]
        }
      ]
    },
    {
      "cell_type": "code",
      "execution_count": 57,
      "metadata": {
        "id": "4CVIXQY_xk3H"
      },
      "outputs": [],
      "source": [
        "import requests\n",
        "import re\n",
        "import torch\n",
        "from PIL import Image\n",
        "from huggingface_hub import InferenceClient\n",
        "from transformers import pipeline\n",
        "import json\n",
        "import pandas as pd\n",
        "import base64\n",
        "import requests\n",
        "from PIL import Image\n",
        "import io\n",
        "from tqdm import tqdm\n",
        "tqdm.pandas()"
      ]
    },
    {
      "cell_type": "code",
      "execution_count": 21,
      "metadata": {
        "id": "2WAvP812rvuH"
      },
      "outputs": [],
      "source": [
        "# Carregar o dataframe\n",
        "df = pd.read_csv('https://raw.githubusercontent.com/jpcosta90/once-learning/refs/heads/main/data/one-page-document/one_page_document_complarison_sample.csv')\n",
        "df = df[['file1','file2','same_pattern']]"
      ]
    },
    {
      "cell_type": "code",
      "source": [
        "# Função para codificar a imagem a partir de uma URL, com conversão de formato\n",
        "def encode_image(image_url):\n",
        "    response = requests.get(image_url)\n",
        "    if response.status_code == 200:\n",
        "        # Abrir a imagem usando PIL\n",
        "        image = Image.open(io.BytesIO(response.content))\n",
        "        # Converter a imagem para JPEG em memória\n",
        "        with io.BytesIO() as output_buffer:\n",
        "            image.convert('RGB').save(output_buffer, format='JPEG')\n",
        "            image_data = output_buffer.getvalue()\n",
        "        # Codificar em base64\n",
        "        return base64.b64encode(image_data).decode('utf-8')\n",
        "    else:\n",
        "        raise Exception(f\"Não foi possível baixar a imagem de {image_url}, status code: {response.status_code}\")"
      ],
      "metadata": {
        "id": "L71FbJ9-6bPB"
      },
      "execution_count": 58,
      "outputs": []
    },
    {
      "cell_type": "code",
      "source": [
        "def classificar_documento(reference_image_url, image_url):\n",
        "\n",
        "    reference_image_url = 'https://raw.githubusercontent.com/jpcosta90/once-learning/main/files/' + reference_image_url\n",
        "    image_url = 'https://raw.githubusercontent.com/jpcosta90/once-learning/main/files/' + image_url\n",
        "\n",
        "    # Get the base64 strings of the images\n",
        "    image_prompt = encode_image(reference_image_url)\n",
        "    base64_image = encode_image(image_url)\n",
        "\n",
        "    # Enviar o prompt para a API\n",
        "    response = client.chat.completions.create(\n",
        "        model=\"gpt-4-turbo\",\n",
        "        messages=[\n",
        "            {\"role\": \"system\", \"content\": [\n",
        "                {\n",
        "                 \"type\": \"text\",\n",
        "                 \"text\": '''\n",
        "                          **Task:**\n",
        "\n",
        "                          You are an AI assistant tasked with analyzing company budget documents to detect any that are out of standard.\n",
        "\n",
        "                          **Instructions:**\n",
        "\n",
        "                          - Analyze each provided document to determine if it conforms to the standard.\n",
        "                          - The attached document is a reference of a **standard** document.\n",
        "                          - Identify documents that are **out of standard** based on the following criteria:\n",
        "                            - Lack of required information.\n",
        "                            - Signs of unauthorized editing.\n",
        "                            - Any other identifiable non-compliance issues.\n",
        "\n",
        "                          **Output Requirements:**\n",
        "\n",
        "                          - Return **only** a JSON object with the following attributes:\n",
        "                            - `\"status\"`: either `\"standard\"` or `\"out of standard\"`.\n",
        "                            - `\"justification\"`: a brief explanation indicating the type of non-compliance.\n",
        "\n",
        "                          **Example Output:**\n",
        "\n",
        "                          {\"status\": \"out of standard\", \"justification\": \"The document is missing the total amount field.\"}\n",
        "\n",
        "                          '''\n",
        "                 },\n",
        "                                {\n",
        "                    \"type\": \"image_url\",\n",
        "                    \"image_url\": {\n",
        "                        \"url\": f\"data:image/jpeg;base64,{image_prompt}\"\n",
        "                    }\n",
        "                }\n",
        "                ]\n",
        "             },\n",
        "            {\"role\": \"user\", \"content\": [\n",
        "                {\n",
        "                    \"type\": \"image_url\",\n",
        "                    \"image_url\": {\n",
        "                        \"url\": f\"data:image/jpeg;base64,{base64_image}\"\n",
        "                    }\n",
        "                }\n",
        "                ]\n",
        "             }\n",
        "        ]\n",
        "    )\n",
        "\n",
        "    # Obter a resposta gerada\n",
        "    classificacao = response.choices[0].message.content\n",
        "\n",
        "    return classificacao"
      ],
      "metadata": {
        "id": "oK0jdlsA1EmX"
      },
      "execution_count": 67,
      "outputs": []
    },
    {
      "cell_type": "code",
      "source": [
        "df['resultado'] = df.progress_apply(\n",
        "    lambda row: classificar_documento(row['file1'], row['file2']), axis=1\n",
        ")"
      ],
      "metadata": {
        "colab": {
          "base_uri": "https://localhost:8080/"
        },
        "id": "urcRRUfpzZhB",
        "outputId": "12a673f7-3c12-405a-b33f-df40dfda158c"
      },
      "execution_count": 68,
      "outputs": [
        {
          "output_type": "stream",
          "name": "stderr",
          "text": [
            "100%|██████████| 20/20 [01:47<00:00,  5.38s/it]\n"
          ]
        }
      ]
    },
    {
      "cell_type": "code",
      "source": [
        "# Salvar o dataframe atualizado\n",
        "df.to_csv('gpt4_result_sample.csv', index=False)"
      ],
      "metadata": {
        "id": "CzNo1HXnjgJW"
      },
      "execution_count": 69,
      "outputs": []
    },
    {
      "cell_type": "code",
      "source": [
        "import os\n",
        "\n",
        "# Get the token from the environment variable\n",
        "gh_token = os.getenv(\"GH_TOKEN\")"
      ],
      "metadata": {
        "id": "_VNvwaPaii-k"
      },
      "execution_count": null,
      "outputs": []
    },
    {
      "cell_type": "code",
      "source": [
        "import requests\n",
        "import base64\n",
        "\n",
        "# Leitura do arquivo CSV\n",
        "with open('llama_result_sample.csv', 'rb') as f:\n",
        "    content = f.read()\n",
        "\n",
        "# Codificação do conteúdo em base64\n",
        "content_b64 = base64.b64encode(content).decode('utf-8')\n",
        "\n",
        "# Configurar os parâmetros da API\n",
        "repo = 'jpcosta90/once-learning'\n",
        "path = 'results/llama_result_sample.csv'\n",
        "message = 'Adiciona sample_comparisons.csv'\n",
        "token = gh_token"
      ],
      "metadata": {
        "id": "DCN1mRnIiceg"
      },
      "execution_count": null,
      "outputs": []
    },
    {
      "cell_type": "code",
      "source": [
        "# URL da API do GitHub\n",
        "url = f'https://api.github.com/repos/{repo}/contents/{path}'\n",
        "\n",
        "# Cabeçalhos da requisição\n",
        "headers = {\n",
        "    'Authorization': f'Bearer {token}',\n",
        "    'Content-Type': 'application/json'\n",
        "}\n",
        "\n",
        "# Dados da requisição\n",
        "data = {\n",
        "    'message': message,\n",
        "    'content': content_b64\n",
        "}\n",
        "\n",
        "# Enviar a requisição PUT\n",
        "response = requests.put(url, headers=headers, json=data)\n",
        "\n",
        "# Verificar a resposta\n",
        "if response.status_code == 201:\n",
        "    print('Arquivo enviado com sucesso!')\n",
        "else:\n",
        "    print(f'Erro ao enviar o arquivo: {response.content}')"
      ],
      "metadata": {
        "colab": {
          "base_uri": "https://localhost:8080/"
        },
        "id": "TOufPx_Sj57R",
        "outputId": "d82eb7df-afbf-45fb-fd99-2602b552d8b9"
      },
      "execution_count": null,
      "outputs": [
        {
          "output_type": "stream",
          "name": "stdout",
          "text": [
            "Erro ao enviar o arquivo: b'{\"message\":\"Bad credentials\",\"documentation_url\":\"https://docs.github.com/rest\",\"status\":\"401\"}'\n"
          ]
        }
      ]
    },
    {
      "cell_type": "code",
      "source": [
        "# Verificar autenticação do token\n",
        "response = requests.get('https://api.github.com/user', headers=headers)\n",
        "if response.status_code == 200:\n",
        "    print('Autenticação bem-sucedida!')\n",
        "    print(f\"Usuário autenticado: {response.json()['login']}\")\n",
        "else:\n",
        "    print(f\"Erro na autenticação: {response.content}\")"
      ],
      "metadata": {
        "colab": {
          "base_uri": "https://localhost:8080/"
        },
        "id": "Xh6W914Ak78z",
        "outputId": "b89e7be8-da4a-464d-f29e-7f5045817527"
      },
      "execution_count": null,
      "outputs": [
        {
          "output_type": "stream",
          "name": "stdout",
          "text": [
            "Erro na autenticação: b'{\"message\":\"Bad credentials\",\"documentation_url\":\"https://docs.github.com/rest\",\"status\":\"401\"}'\n"
          ]
        }
      ]
    }
  ],
  "metadata": {
    "accelerator": "GPU",
    "colab": {
      "gpuType": "T4",
      "provenance": []
    },
    "kernelspec": {
      "display_name": "Python 3",
      "name": "python3"
    },
    "language_info": {
      "name": "python"
    }
  },
  "nbformat": 4,
  "nbformat_minor": 0
}